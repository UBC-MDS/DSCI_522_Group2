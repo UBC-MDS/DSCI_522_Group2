{
 "cells": [
  {
   "cell_type": "code",
   "execution_count": null,
   "id": "30fd0b27-4231-4685-b91b-5d5e25d623e7",
   "metadata": {},
   "outputs": [],
   "source": [
    "def get_feature_importances(X_train, y_train, target_column_name):\n",
    "    \"\"\"\n",
    "    Scales data using a standard scaler, runs logistic regression \n",
    "    on the training data and returns a dataframe of the feature names \n",
    "    along with their respective coefficients (as defined by logistic regression).\n",
    "\n",
    "    Parameters\n",
    "    ------\n",
    "    X_train: numpy array or pandas DataFrame\n",
    "        The X used for training\n",
    "    y_train: numpy array or pandas Datarame\n",
    "        The Y used for training\n",
    "    target_column_name: string\n",
    "        The name of the column where the target values are stored\n",
    "\n",
    "    Returns:\n",
    "    ------\n",
    "        Pandas dataframe with two columns: features and coefficients\n",
    "\n",
    "    Examples:\n",
    "    ------\n",
    "        get_feature_importance(X_train, y_train, \"Diabetes_binary\")\n",
    "    \n",
    "    \"\"\"\n",
    "    # Manually scaling the data\n",
    "    scaler = StandardScaler()  \n",
    "    scaler.fit(X_train)  \n",
    "    X_train_scaled = scaler.transform(X_train)  \n",
    "    \n",
    "    # Fitting Logistic Regression\n",
    "    lr = LogisticRegression()\n",
    "    lr.fit(X_train_scaled, y_train)\n",
    "\n",
    "    # Grab feature columns\n",
    "    feature_columns = train_df.drop(columns=[target_column_name]).columns\n",
    "    \n",
    "    # Create a DataFrame to display coefficients\n",
    "    data = {\"features\": feature_columns, \"coefficients\": lr.coef_[0]}\n",
    "    coefficients_df = pd.DataFrame(data)\n",
    "    \n",
    "    return coefficients_df"
   ]
  }
 ],
 "metadata": {
  "kernelspec": {
   "display_name": "Python [conda env:522]",
   "language": "python",
   "name": "conda-env-522-py"
  },
  "language_info": {
   "codemirror_mode": {
    "name": "ipython",
    "version": 3
   },
   "file_extension": ".py",
   "mimetype": "text/x-python",
   "name": "python",
   "nbconvert_exporter": "python",
   "pygments_lexer": "ipython3",
   "version": "3.10.0"
  }
 },
 "nbformat": 4,
 "nbformat_minor": 5
}
