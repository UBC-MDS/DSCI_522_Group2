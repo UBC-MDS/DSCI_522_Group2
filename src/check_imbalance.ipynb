{
 "cells": [
  {
   "cell_type": "code",
   "execution_count": 1,
   "metadata": {},
   "outputs": [],
   "source": [
    "# just to isolate the code to avoid merge conflict for now and will merge together later\n",
    "import pandas as pd\n",
    "\n",
    "def check_imbalance(df, feat_name):\n",
    "    \"\"\"\n",
    "    Check for imbalances of a specific feature in a dataset.\n",
    "\n",
    "    Parameters:\n",
    "    - df (pd.DataFrame): The input DataFrame containing the dataset.\n",
    "    - feat_name (str): The name of the feature to analyze for imbalances.\n",
    "\n",
    "    Returns:\n",
    "    pd.Series: The counts of each class in the specified feature.\n",
    "\n",
    "    Steps:\n",
    "    1. Remove duplicate rows from the DataFrame.\n",
    "    2. Return a Series containing the count of each class in the specified feature.\n",
    "\n",
    "    Example:\n",
    "    --------\n",
    "    >>> import pandas as pd\n",
    "    >>> data = pd.DataFrame({\"Diabetes_binary\": [0, 1, 1, 0, 1, 0, 1]})\n",
    "    >>> result = check_imbalance(data, \"Diabetes_binary\")\n",
    "    >>> print(result)\n",
    "    \n",
    "    Notes:\n",
    "    -----\n",
    "    This function utilizes pandas to remove duplicate rows and calculate\n",
    "    the count of each class in the specified feature.\n",
    "\n",
    "    \"\"\"\n",
    "    # Step 1: Remove duplicate rows\n",
    "    df.drop_duplicates(inplace=True)\n",
    "\n",
    "    # Step 2: Calculate the count of each class in the specified feature\n",
    "    feature_counts = df[feat_name].value_counts()\n",
    "\n",
    "    return feature_counts\n"
   ]
  }
 ],
 "metadata": {
  "kernelspec": {
   "display_name": "Diabetes_Prediction",
   "language": "python",
   "name": "python3"
  },
  "language_info": {
   "codemirror_mode": {
    "name": "ipython",
    "version": 3
   },
   "file_extension": ".py",
   "mimetype": "text/x-python",
   "name": "python",
   "nbconvert_exporter": "python",
   "pygments_lexer": "ipython3",
   "version": "3.10.0"
  }
 },
 "nbformat": 4,
 "nbformat_minor": 2
}
