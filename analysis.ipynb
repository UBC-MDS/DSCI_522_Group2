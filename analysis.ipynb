{
 "cells": [
  {
   "cell_type": "markdown",
   "id": "18dd6776-597d-4b44-9f5a-2383b13e0dbc",
   "metadata": {},
   "source": [
    "# Diabetes prediction from UCI diabetes data"
   ]
  },
  {
   "cell_type": "code",
   "execution_count": null,
   "id": "8468a54f",
   "metadata": {},
   "outputs": [],
   "source": [
    "# Importing all used libraries\n",
    "import pandas as pd\n",
    "import altair as alt\n",
    "from sklearn.model_selection import train_test_split, cross_val_score, cross_validate\n",
    "from sklearn.metrics import accuracy_score\n",
    "from sklearn.pipeline import make_pipeline\n",
    "from sklearn.preprocessing import StandardScaler\n",
    "from sklearn.linear_model import LogisticRegression\n",
    "from sklearn.svm import SVC\n",
    "from sklearn.compose import ColumnTransformer\n",
    "from sklearn.neighbors import KNeighborsClassifier\n",
    "from sklearn.dummy import DummyClassifier\n",
    "from sklearn.tree import DecisionTreeClassifier"
   ]
  },
  {
   "cell_type": "code",
   "execution_count": null,
   "id": "940ae036",
   "metadata": {},
   "outputs": [],
   "source": [
    "diabetes_df = pd.read_csv(\"data/diabetes_binary_5050split_health_indicators_BRFSS2015.csv\")\n",
    "diabetes_df.head()"
   ]
  },
  {
   "cell_type": "code",
   "execution_count": null,
   "id": "3a6523ff",
   "metadata": {},
   "outputs": [],
   "source": [
    "diabetes_df.info()"
   ]
  },
  {
   "cell_type": "code",
   "execution_count": null,
   "id": "03defd8d",
   "metadata": {},
   "outputs": [],
   "source": [
    "print(diabetes_df.shape)\n",
    "diabetes_df.describe().T\n"
   ]
  },
  {
   "cell_type": "code",
   "execution_count": null,
   "id": "e6b875c1",
   "metadata": {},
   "outputs": [],
   "source": [
    "# Check for duplicate in dataset\n",
    "duplicate_rows = diabetes_df.duplicated()\n",
    "print(duplicate_rows.value_counts())"
   ]
  },
  {
   "cell_type": "code",
   "execution_count": null,
   "id": "ff52ab77",
   "metadata": {},
   "outputs": [],
   "source": [
    "# Check for imbalance dataset\n",
    "diabetes_df.drop_duplicates(inplace=True)\n",
    "diabetes_df[\"Diabetes_binary\"].value_counts()"
   ]
  },
  {
   "cell_type": "code",
   "execution_count": null,
   "id": "af369493",
   "metadata": {},
   "outputs": [],
   "source": [
    "# Check for null values\n",
    "diabetes_df.isnull().sum()"
   ]
  },
  {
   "cell_type": "code",
   "execution_count": null,
   "id": "09c18be7",
   "metadata": {},
   "outputs": [],
   "source": [
    "#Creating train and test data\n",
    "train_df, test_df = train_test_split(diabetes_df, test_size = 0.2, random_state=123)\n",
    "\n",
    "X_train = train_df.drop(columns = \"Diabetes_binary\")\n",
    "y_train = train_df[\"Diabetes_binary\"]\n",
    "\n",
    "X_test = test_df.drop(columns = \"Diabetes_binary\")\n",
    "y_test = test_df[\"Diabetes_binary\"]"
   ]
  },
  {
   "cell_type": "code",
   "execution_count": null,
   "id": "4fec55ee",
   "metadata": {},
   "outputs": [],
   "source": [
    "# plotting histogram distributions\n",
    "alt.data_transformers.enable(\"vegafusion\")\n",
    "numeric_cols = train_df.select_dtypes(include=['float64']).columns.to_list()\n",
    "\n",
    "hist_plot = alt.Chart(train_df).mark_bar(opacity=0.7).encode(\n",
    "            x=alt.X(alt.repeat(),type='quantitative', bin=alt.Bin(maxbins=20)),\n",
    "            y=alt.Y('count()').stack(False),\n",
    "            color=alt.Color('Diabetes_binary:N')\n",
    "        ).properties(\n",
    "            width=150,\n",
    "            height=150\n",
    "        ).repeat(\n",
    "            numeric_cols,\n",
    "            columns=4\n",
    "        )\n",
    "\n",
    "hist_plot"
   ]
  },
  {
   "cell_type": "code",
   "execution_count": null,
   "id": "c9843476",
   "metadata": {},
   "outputs": [],
   "source": [
    "#Creating the baseline for our model\n",
    "dummy = DummyClassifier()\n",
    "scores = cross_validate(dummy, X_train, y_train, return_train_score=True)\n",
    "pd.DataFrame(scores)"
   ]
  },
  {
   "cell_type": "markdown",
   "id": "6ef8ac7e-9c45-4166-886b-21a4ae8cb273",
   "metadata": {},
   "source": [
    "# Model comparison"
   ]
  },
  {
   "cell_type": "code",
   "execution_count": null,
   "id": "f0d77fb1",
   "metadata": {},
   "outputs": [],
   "source": [
    "# Designate binary and continuous cols\n",
    "binary_cols = ['HighBP', 'HighChol', 'CholCheck', 'Smoker', 'Stroke', 'HeartDiseaseorAttack', \n",
    "               'PhysActivity', 'Fruits', 'Veggies', 'HvyAlcoholConsump', 'AnyHealthcare', 'NoDocbcCost',\n",
    "              'DiffWalk', 'Sex']\n",
    "continuous_cols = ['BMI', 'Age', 'GenHlth', 'MentHlth', 'PhysHlth', 'Education', 'Income']\n"
   ]
  },
  {
   "cell_type": "code",
   "execution_count": null,
   "id": "beb0624f-5b27-436b-8f60-7a75949c09f9",
   "metadata": {},
   "outputs": [],
   "source": [
    "# Create a pre-processor which scales the continuous cols\n",
    "preprocessor = ColumnTransformer(\n",
    "    transformers=[\n",
    "        ('continuous', StandardScaler(), continuous_cols),\n",
    "        ('binary', 'passthrough', binary_cols)\n",
    "    ])"
   ]
  },
  {
   "cell_type": "code",
   "execution_count": null,
   "id": "4550ed87-629f-47cd-b62a-cd6cd62240ff",
   "metadata": {},
   "outputs": [],
   "source": [
    "# Models to test\n",
    "models = {\n",
    "    \"Dummy\": make_pipeline(preprocessor, DummyClassifier()),\n",
    "    \"Decision tree\": make_pipeline(preprocessor, DecisionTreeClassifier(random_state=123)),\n",
    "    \"Logistic regression\": make_pipeline(preprocessor, LogisticRegression()),\n",
    "    \"Knn\": make_pipeline(preprocessor, KNeighborsClassifier())\n",
    "}"
   ]
  },
  {
   "cell_type": "code",
   "execution_count": null,
   "id": "04ce550c-c524-4478-9274-b79b148dd6d4",
   "metadata": {},
   "outputs": [],
   "source": [
    "# Evaluate each model\n",
    "results_dict = {}\n",
    "\n",
    "for name, pipeline in models.items():\n",
    "    \n",
    "    # Cross-validation on training data\n",
    "    cv_scores = cross_val_score(pipeline, X_train, y_train, cv = 5)\n",
    "    mean_cv_score = round(cv_scores.mean(), 2)\n",
    "\n",
    "    pipeline.fit(X_train, y_train)\n",
    "    predictions = pipeline.predict(X_test)\n",
    "    test_accuracy = round(accuracy_score(y_test, predictions), 2)\n",
    "\n",
    "    results_dict[name] = (mean_cv_score, test_accuracy)\n",
    "\n",
    "results_df = pd.DataFrame(list(results_dict.values()), index=results_dict.keys(), columns=['Mean CV Score', 'Test Accuracy'])\n",
    "results_df"
   ]
  },
  {
   "cell_type": "markdown",
   "id": "5d2163c5-635a-47f4-87f9-10a859cfaa89",
   "metadata": {},
   "source": [
    "# Feature Importance"
   ]
  },
  {
   "cell_type": "code",
   "execution_count": null,
   "id": "10a5fb13-7866-4eab-860a-765a8a186fc7",
   "metadata": {},
   "outputs": [],
   "source": [
    "# Manually scaling the data\n",
    "scaler = StandardScaler()  \n",
    "scaler.fit(X_train)  \n",
    "X_train_scaled = scaler.transform(X_train)  \n",
    "X_test_scaled = scaler.transform(X_test)"
   ]
  },
  {
   "cell_type": "code",
   "execution_count": null,
   "id": "30c876e1-8594-4d2f-8763-cc366f78714f",
   "metadata": {},
   "outputs": [],
   "source": [
    "# Show coefficients\n",
    "lr = LogisticRegression()\n",
    "lr.fit(X_train_scaled, y_train)\n",
    "cols = train_df.drop(columns=[\"Diabetes_binary\"]).columns\n",
    "data = {\"features\": cols, \"coefficients\": lr.coef_[0]}\n",
    "pd.DataFrame(data)"
   ]
  },
  {
   "cell_type": "markdown",
   "metadata": {},
   "source": [
    "## Exploring Hyperparameters"
   ]
  },
  {
   "cell_type": "markdown",
   "metadata": {},
   "source": [
    "While the logistic regression model had the highest accuracy score of the models we explored. However, the knn model was the second best model and had a cross validation accuracy only 0.03 less than the regression model. As such, we will now explore the hyperparameters of the knn model to see if we can improve this score. "
   ]
  },
  {
   "cell_type": "code",
   "execution_count": null,
   "id": "7b799348-de7d-4f41-91de-86a0b7106c87",
   "metadata": {},
   "outputs": [],
   "source": [
    "from sklearn.model_selection import RandomizedSearchCV\n",
    "knn_pipe = make_pipeline(preprocessor, KNeighborsClassifier())\n",
    "\n",
    "param_grid = {\n",
    "    \"kneighborsclassifier__n_neighbors\": [50, 100, 200, 300, 500]\n",
    "}\n",
    "first_search = RandomizedSearchCV(knn_pipe, param_distributions=param_grid, n_iter=10, n_jobs= -1, return_train_score=True) \n",
    "first_search.fit(X_train, y_train)\n"
   ]
  },
  {
   "cell_type": "code",
   "execution_count": null,
   "metadata": {},
   "outputs": [],
   "source": [
    "print (\"the best parameter:\", first_search.best_params_)\n",
    "print (\"the best score:\", first_search.best_score_)"
   ]
  }
 ],
 "metadata": {
  "kernelspec": {
   "display_name": "571",
   "language": "python",
   "name": "python3"
  },
  "language_info": {
   "codemirror_mode": {
    "name": "ipython",
    "version": 3
   },
   "file_extension": ".py",
   "mimetype": "text/x-python",
   "name": "python",
   "nbconvert_exporter": "python",
   "pygments_lexer": "ipython3",
   "version": "3.10.0"
  }
 },
 "nbformat": 4,
 "nbformat_minor": 5
}
